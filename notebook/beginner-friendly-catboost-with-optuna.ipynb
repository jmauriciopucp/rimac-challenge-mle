{
 "cells": [
  {
   "cell_type": "markdown",
   "metadata": {},
   "source": [
    "#### Hi all.  🙋\n",
    "\n",
    "#### We continue our **Beginner-Intermediate Friendly Machine Learning series**, which would help anyone who wants to learn or refresh the basics of ML.\n",
    "\n",
    "#### What we have covered: \n",
    "\n",
    "#### [Beginner Friendly Detailed Explained EDAs – For anyone at the beginnings of DS/ML journey](https://www.kaggle.com/general/253911#1393015) ✔️\n",
    "\n",
    "#### [BIAS & VARIANCE TRADEOFF](https://www.kaggle.com/kaanboke/ml-basics-bias-variance-tradeoff) ✔️\n",
    "\n",
    "#### [LINEAR ALGORITHMS](https://www.kaggle.com/kaanboke/ml-basics-linear-algorithms)  ✔️\n",
    "\n",
    "#### [NONLINEAR ALGORITHMS](https://www.kaggle.com/kaanboke/nonlinear-algorithms)  ✔️\n",
    "\n",
    "#### [The Most Used Methods to Deal with MISSING VALUES](https://www.kaggle.com/kaanboke/the-most-used-methods-to-deal-with-missing-values)  ✔️\n",
    "\n",
    "#### [Beginner Friendly End to End ML Project- Classification with Imbalanced Data](https://www.kaggle.com/kaanboke/beginner-friendly-end-to-end-ml-project-enjoy)  ✔️\n",
    "\n",
    "#### [How to Prevent the Data Leakage ?](https://www.kaggle.com/kaanboke/how-to-prevent-the-data-leakage) ✔️\n",
    "\n",
    "#### [The Most Common EVALUATION METRICS- A Gentle Intro](https://www.kaggle.com/kaanboke/the-most-common-evaluation-metrics-a-gentle-intro) ✔️\n",
    "\n",
    "#### [Feature Selection-The Most Common Methods to Know](https://www.kaggle.com/kaanboke/feature-selection-the-most-common-methods-to-know) ✔️\n",
    "\n",
    "#### [Beginner Friendly End to End ML Project- Car Price Prediction](https://www.kaggle.com/kaanboke/car-price-prediction-beginner-friendly-94-3)  ✔️\n",
    "\n",
    "#### In this notebook we will implement new beginner friendly end to end ML model by using **CATBOOST with Optuna HyperParameter Tuning**\n",
    "\n",
    "\n",
    "#### Enjoy 🤘"
   ]
  },
  {
   "cell_type": "markdown",
   "metadata": {},
   "source": [
    "<a id=\"toc\"></a>\n",
    "\n",
    "<h3 class=\"list-group-item list-group-item-action active\" data-toggle=\"list\" role=\"tab\" aria-controls=\"home\">Table of Contents</h3>\n",
    "    \n",
    "* [Data](#0)\n",
    "* [What Problem We Have and Which Metric to Use?](#1)\n",
    "\n",
    "* [Exploratory Data Analysis](#2)\n",
    "    * [Target Variable](#3)\n",
    "    * [Numerical Features](#4)\n",
    "    * [Categorical Features](#5)    \n",
    "    \n",
    "* [Model Selection](#6)    \n",
    "    * [Baseline Model](#7)\n",
    "    * [Logistic & Linear Discriminant & SVC & KNN](#8)\n",
    "    * [Logistic & Linear Discriminant & SVC & KNN with Scaler](#9)    \n",
    "    * [Ensemble Models (AdaBoost & Gradient Boosting & Random Forest & Extra Trees)](#10)\n",
    "    * [Famous Trio (XGBoost & LightGBM & Catboost)](#11)\n",
    "    * [CATBOOST](#12)\n",
    "    * [Catboost HyperParameter Tuning with OPTUNA](#13)\n",
    "    * [Feature Importance](#14)    \n",
    "    * [Model Comparison](#15)  \n",
    "    \n",
    "    \n",
    "\n",
    "\n",
    "* [Conclusion](#16)\n",
    "\n",
    "* [References & Further Reading](#17)"
   ]
  },
  {
   "cell_type": "markdown",
   "metadata": {},
   "source": [
    "<a id=\"0\"></a>\n",
    "<font color=\"lightseagreen\" size=+2.5><b>Data</b></font>\n",
    "\n",
    "<a href=\"#toc\" class=\"btn btn-primary btn-sm\" role=\"button\" aria-pressed=\"true\" style=\"color:white\" data-toggle=\"popover\">Table of Contents</a>"
   ]
  },
  {
   "cell_type": "markdown",
   "metadata": {},
   "source": [
    "# Heart Failure Prediction Dataset"
   ]
  },
  {
   "cell_type": "markdown",
   "metadata": {},
   "source": [
    "DATA DICTONARY\t\t\t\t\t\t\n",
    "\t\t\t\t\t\t\n",
    "1\t**Age**: \t\t\tAge of the patient [years] \t\t\n",
    "2\t**Sex**:  \t\t\t Sex of the patient [M: Male, F: Female] \t\t\n",
    "3\t**ChestPainType**: \t\t\t[TA: Typical Angina, ATA: Atypical Angina, NAP: Non-Anginal Pain, ASY: Asymptomatic] \t\t\n",
    "4\t**RestingBP**:\t\t\tResting blood pressure [mm Hg] \t\t\n",
    "5\t**Cholesterol**:\t\t\tSerum cholesterol [mm/dl] \t\t\n",
    "6\t**FastingBS**:\t\t\t Fasting blood sugar [1: if FastingBS > 120 mg/dl, 0: otherwise]\t\t\n",
    "7\t**RestingECG**:\t\t\t Resting electrocardiogram results [Normal: Normal, ST: having ST-T wave abnormality (T wave inversions and/or ST elevation or depression of > 0.05 mV), LVH: showing probable or definite left ventricular hypertrophy by Estes' criteria] \t\t\n",
    "8\t**MaxHR**:\t\t\tMaximum heart rate achieved [Numeric value between 60 and 202]\t\t\n",
    "9\t**ExerciseAngina**:\t\t\tExercise-induced angina [Y: Yes, N: No]\t\t\n",
    "10\t**Oldpeak**:\t\t\t ST [Numeric value measured in depression] (\t\t\n",
    "11\t**ST_Slope**:\t\t\t The slope of the peak exercise ST segment [Up: upsloping, Flat: flat, Down: downsloping] \t\t\n",
    "12\t**HeartDisease**:\t\t\t Output class [1: heart disease, 0: Normal] \t\t\n",
    "\n",
    "Reference: https://www.kaggle.com/fedesoriano/heart-failure-prediction"
   ]
  },
  {
   "cell_type": "markdown",
   "metadata": {},
   "source": [
    "<a id=\"1\"></a>\n",
    "<font color=\"lightseagreen\" size=+1.5><b>What Problem We Have and Which Metric to Use?</b></font>\n",
    "\n",
    "<a href=\"#toc\" class=\"btn btn-primary btn-sm\" role=\"button\" aria-pressed=\"true\" style=\"color:white\" data-toggle=\"popover\">Table of Contents</a>"
   ]
  },
  {
   "cell_type": "markdown",
   "metadata": {},
   "source": [
    "- Based on the data and data dictionary, We have a classification problem.\n",
    "- We wil make classification on the target variable **Heart Disease**\n",
    "- And we will build a model to get best calssification possible on the target variable.\n",
    "- For that we will look at the balance of the target variable.\n",
    "- As we will see later, our target variable has balanced or balanced like data\n",
    "- For that reason we will use **Accuracy score**.\n",
    "- [For the detailed info about the evaluation metrics](https://www.kaggle.com/kaanboke/the-most-common-evaluation-metrics-a-gentle-intro)"
   ]
  },
  {
   "cell_type": "markdown",
   "metadata": {},
   "source": [
    "<a id=\"2\"></a>\n",
    "<font color=\"lightseagreen\" size=+2.5><b>Exploratory Data Analysis</b></font>\n",
    "\n",
    "<a href=\"#toc\" class=\"btn btn-primary btn-sm\" role=\"button\" aria-pressed=\"true\" style=\"color:white\" data-toggle=\"popover\">Table of Contents</a>"
   ]
  },
  {
   "cell_type": "markdown",
   "metadata": {},
   "source": [
    "- Let's import the libraries"
   ]
  },
  {
   "cell_type": "code",
   "execution_count": 1,
   "metadata": {
    "_cell_guid": "b1076dfc-b9ad-4769-8c92-a6c4dae69d19",
    "_kg_hide-input": true,
    "_uuid": "8f2839f25d086af736a60e9eeb907d3b93b6e0e5",
    "execution": {
     "iopub.execute_input": "2021-10-02T19:00:16.816279Z",
     "iopub.status.busy": "2021-10-02T19:00:16.815216Z",
     "iopub.status.idle": "2021-10-02T19:00:20.234273Z",
     "shell.execute_reply": "2021-10-02T19:00:20.233372Z",
     "shell.execute_reply.started": "2021-10-02T19:00:16.816078Z"
    }
   },
   "outputs": [
    {
     "ename": "ModuleNotFoundError",
     "evalue": "No module named 'imblearn'",
     "output_type": "error",
     "traceback": [
      "\u001b[1;31m---------------------------------------------------------------------------\u001b[0m",
      "\u001b[1;31mModuleNotFoundError\u001b[0m                       Traceback (most recent call last)",
      "Input \u001b[1;32mIn [1]\u001b[0m, in \u001b[0;36m<cell line: 19>\u001b[1;34m()\u001b[0m\n\u001b[0;32m     17\u001b[0m \u001b[38;5;28;01mfrom\u001b[39;00m \u001b[38;5;21;01msklearn\u001b[39;00m\u001b[38;5;21;01m.\u001b[39;00m\u001b[38;5;21;01mimpute\u001b[39;00m \u001b[38;5;28;01mimport\u001b[39;00m SimpleImputer\n\u001b[0;32m     18\u001b[0m \u001b[38;5;28;01mfrom\u001b[39;00m \u001b[38;5;21;01msklearn\u001b[39;00m\u001b[38;5;21;01m.\u001b[39;00m\u001b[38;5;21;01mdummy\u001b[39;00m \u001b[38;5;28;01mimport\u001b[39;00m DummyClassifier\n\u001b[1;32m---> 19\u001b[0m \u001b[38;5;28;01mfrom\u001b[39;00m \u001b[38;5;21;01mimblearn\u001b[39;00m\u001b[38;5;21;01m.\u001b[39;00m\u001b[38;5;21;01mover_sampling\u001b[39;00m \u001b[38;5;28;01mimport\u001b[39;00m SMOTE\n\u001b[0;32m     21\u001b[0m \u001b[38;5;28;01mfrom\u001b[39;00m \u001b[38;5;21;01msklearn\u001b[39;00m\u001b[38;5;21;01m.\u001b[39;00m\u001b[38;5;21;01mensemble\u001b[39;00m \u001b[38;5;28;01mimport\u001b[39;00m AdaBoostClassifier\n\u001b[0;32m     22\u001b[0m \u001b[38;5;28;01mfrom\u001b[39;00m \u001b[38;5;21;01msklearn\u001b[39;00m\u001b[38;5;21;01m.\u001b[39;00m\u001b[38;5;21;01mensemble\u001b[39;00m \u001b[38;5;28;01mimport\u001b[39;00m GradientBoostingClassifier\n",
      "\u001b[1;31mModuleNotFoundError\u001b[0m: No module named 'imblearn'"
     ]
    }
   ],
   "source": [
    "import numpy as np\n",
    "import pandas as pd\n",
    "import matplotlib.pyplot as plt\n",
    "import seaborn as sns\n",
    "\n",
    "\n",
    "\n",
    "from sklearn.model_selection import KFold,cross_val_score, RepeatedStratifiedKFold,StratifiedKFold\n",
    "from sklearn.impute import SimpleImputer\n",
    "from sklearn.pipeline import Pipeline\n",
    "from sklearn.discriminant_analysis import LinearDiscriminantAnalysis\n",
    "from sklearn.preprocessing import OneHotEncoder,StandardScaler,PowerTransformer\n",
    "from sklearn.compose import ColumnTransformer\n",
    "from sklearn.pipeline import Pipeline\n",
    "from sklearn.linear_model import LogisticRegression\n",
    "from sklearn.svm import SVC\n",
    "from sklearn.impute import SimpleImputer\n",
    "from sklearn.dummy import DummyClassifier\n",
    "from imblearn.over_sampling import SMOTE\n",
    "\n",
    "from sklearn.ensemble import AdaBoostClassifier\n",
    "from sklearn.ensemble import GradientBoostingClassifier\n",
    "from sklearn.ensemble import RandomForestClassifier\n",
    "from sklearn.ensemble import ExtraTreesClassifier\n",
    "from sklearn.neighbors import KNeighborsClassifier\n",
    "\n",
    "import optuna\n",
    "from xgboost import XGBClassifier\n",
    "from lightgbm import LGBMClassifier\n",
    "from catboost import CatBoostClassifier\n",
    "\n",
    "from sklearn.pipeline import make_pipeline\n",
    "from sklearn.pipeline import Pipeline\n",
    "from sklearn.compose import make_column_transformer\n",
    "\n",
    "from sklearn.model_selection import KFold, cross_val_predict, train_test_split,GridSearchCV,cross_val_score\n",
    "from sklearn.metrics import accuracy_score,classification_report\n",
    "\n",
    "#importing plotly and cufflinks in offline mode\n",
    "import cufflinks as cf\n",
    "import plotly.offline\n",
    "cf.go_offline()\n",
    "cf.set_config_file(offline=False, world_readable=True)\n",
    "\n",
    "\n",
    "import plotly \n",
    "import plotly.express as px\n",
    "import plotly.graph_objs as go\n",
    "import plotly.offline as py\n",
    "from plotly.offline import iplot\n",
    "from plotly.subplots import make_subplots\n",
    "import plotly.figure_factory as ff\n",
    "\n",
    "import missingno as msno\n",
    "\n",
    "import warnings\n",
    "warnings.filterwarnings(\"ignore\")"
   ]
  },
  {
   "cell_type": "code",
   "execution_count": null,
   "metadata": {
    "_kg_hide-input": true,
    "execution": {
     "iopub.execute_input": "2021-10-02T19:00:20.23631Z",
     "iopub.status.busy": "2021-10-02T19:00:20.236057Z",
     "iopub.status.idle": "2021-10-02T19:00:20.268025Z",
     "shell.execute_reply": "2021-10-02T19:00:20.267185Z",
     "shell.execute_reply.started": "2021-10-02T19:00:20.236279Z"
    }
   },
   "outputs": [],
   "source": [
    "pd.set_option('max_columns',100)\n",
    "pd.set_option('max_rows',900)\n",
    "\n",
    "pd.set_option('max_colwidth',200)\n",
    "\n",
    "df = pd.read_csv('../input/heart-failure-prediction/heart.csv')\n",
    "df.head()"
   ]
  },
  {
   "cell_type": "code",
   "execution_count": null,
   "metadata": {
    "_kg_hide-input": true,
    "execution": {
     "iopub.execute_input": "2021-10-02T19:00:20.269936Z",
     "iopub.status.busy": "2021-10-02T19:00:20.269187Z",
     "iopub.status.idle": "2021-10-02T19:00:20.287576Z",
     "shell.execute_reply": "2021-10-02T19:00:20.286477Z",
     "shell.execute_reply.started": "2021-10-02T19:00:20.269903Z"
    }
   },
   "outputs": [],
   "source": [
    "df.info()"
   ]
  },
  {
   "cell_type": "markdown",
   "metadata": {},
   "source": [
    "- Overall data types seems ok."
   ]
  },
  {
   "cell_type": "code",
   "execution_count": null,
   "metadata": {
    "execution": {
     "iopub.execute_input": "2021-10-02T19:00:20.29063Z",
     "iopub.status.busy": "2021-10-02T19:00:20.290269Z",
     "iopub.status.idle": "2021-10-02T19:00:20.308479Z",
     "shell.execute_reply": "2021-10-02T19:00:20.307339Z",
     "shell.execute_reply.started": "2021-10-02T19:00:20.290588Z"
    }
   },
   "outputs": [],
   "source": [
    "df.duplicated().sum()"
   ]
  },
  {
   "cell_type": "markdown",
   "metadata": {},
   "source": [
    "- No duplicates"
   ]
  },
  {
   "cell_type": "code",
   "execution_count": null,
   "metadata": {
    "_kg_hide-input": true,
    "execution": {
     "iopub.execute_input": "2021-10-02T19:00:20.31035Z",
     "iopub.status.busy": "2021-10-02T19:00:20.310046Z",
     "iopub.status.idle": "2021-10-02T19:00:20.337946Z",
     "shell.execute_reply": "2021-10-02T19:00:20.336839Z",
     "shell.execute_reply.started": "2021-10-02T19:00:20.31031Z"
    }
   },
   "outputs": [],
   "source": [
    "def missing (df):\n",
    "    missing_number = df.isnull().sum().sort_values(ascending=False)\n",
    "    missing_percent = (df.isnull().sum()/df.isnull().count()).sort_values(ascending=False)\n",
    "    missing_values = pd.concat([missing_number, missing_percent], axis=1, keys=['Missing_Number', 'Missing_Percent'])\n",
    "    return missing_values\n",
    "\n",
    "missing(df)"
   ]
  },
  {
   "cell_type": "markdown",
   "metadata": {},
   "source": [
    "- No missing values."
   ]
  },
  {
   "cell_type": "code",
   "execution_count": null,
   "metadata": {
    "execution": {
     "iopub.execute_input": "2021-10-02T19:00:20.340181Z",
     "iopub.status.busy": "2021-10-02T19:00:20.339829Z",
     "iopub.status.idle": "2021-10-02T19:00:20.355248Z",
     "shell.execute_reply": "2021-10-02T19:00:20.354186Z",
     "shell.execute_reply.started": "2021-10-02T19:00:20.340136Z"
    }
   },
   "outputs": [],
   "source": [
    "numerical= df.drop(['HeartDisease'], axis=1).select_dtypes('number').columns\n",
    "\n",
    "categorical = df.select_dtypes('object').columns\n",
    "\n",
    "print(f'Numerical Columns:  {df[numerical].columns}')\n",
    "print('\\n')\n",
    "print(f'Categorical Columns: {df[categorical].columns}')"
   ]
  },
  {
   "cell_type": "code",
   "execution_count": null,
   "metadata": {
    "execution": {
     "iopub.execute_input": "2021-10-02T19:00:20.357595Z",
     "iopub.status.busy": "2021-10-02T19:00:20.357255Z",
     "iopub.status.idle": "2021-10-02T19:00:20.372715Z",
     "shell.execute_reply": "2021-10-02T19:00:20.371472Z",
     "shell.execute_reply.started": "2021-10-02T19:00:20.357552Z"
    }
   },
   "outputs": [],
   "source": [
    "df[categorical].nunique()"
   ]
  },
  {
   "cell_type": "markdown",
   "metadata": {},
   "source": [
    "- So far so good. No zero variance and no extremely high variance."
   ]
  },
  {
   "cell_type": "markdown",
   "metadata": {},
   "source": [
    "<a id=\"3\"></a>\n",
    "<font color=\"lightseagreen\" size=+1.5><b>Target Variable</b></font>\n",
    "\n",
    "<a href=\"#toc\" class=\"btn btn-primary btn-sm\" role=\"button\" aria-pressed=\"true\" style=\"color:white\" data-toggle=\"popover\">Table of Contents</a>"
   ]
  },
  {
   "cell_type": "code",
   "execution_count": null,
   "metadata": {
    "execution": {
     "iopub.execute_input": "2021-10-02T19:00:20.375274Z",
     "iopub.status.busy": "2021-10-02T19:00:20.374852Z",
     "iopub.status.idle": "2021-10-02T19:00:20.388229Z",
     "shell.execute_reply": "2021-10-02T19:00:20.387242Z",
     "shell.execute_reply.started": "2021-10-02T19:00:20.375229Z"
    }
   },
   "outputs": [],
   "source": [
    "y = df['HeartDisease']\n",
    "print(f'Percentage of patient had a HeartDisease:  {round(y.value_counts(normalize=True)[1]*100,2)} %  --> ({y.value_counts()[1]} patient)\\nPercentage of patient did not have a HeartDisease: {round(y.value_counts(normalize=True)[0]*100,2)}  %  --> ({y.value_counts()[0]} patient)')"
   ]
  },
  {
   "cell_type": "markdown",
   "metadata": {},
   "source": [
    "- Almost 55% of the patients had a heart disease.\n",
    "-  508 patient had a heart disease.\n",
    "- Almost 45%  of patients didn't have a heart disease.\n",
    "- 410 patient didn't have a heart disease.\n"
   ]
  },
  {
   "cell_type": "code",
   "execution_count": null,
   "metadata": {
    "execution": {
     "iopub.execute_input": "2021-10-02T19:00:20.38968Z",
     "iopub.status.busy": "2021-10-02T19:00:20.38938Z",
     "iopub.status.idle": "2021-10-02T19:00:20.657711Z",
     "shell.execute_reply": "2021-10-02T19:00:20.656851Z",
     "shell.execute_reply.started": "2021-10-02T19:00:20.389649Z"
    }
   },
   "outputs": [],
   "source": [
    "df['HeartDisease'].iplot(kind='hist')"
   ]
  },
  {
   "cell_type": "markdown",
   "metadata": {},
   "source": [
    "- There is a little imblanace but nothing in the disturbing level.\n",
    "- We can use 'accuracy' metric as our evaluation metric."
   ]
  },
  {
   "cell_type": "markdown",
   "metadata": {},
   "source": [
    "<a id=\"4\"></a>\n",
    "<font color=\"lightseagreen\" size=+1.5><b>Numerical Features</b></font>\n",
    "\n",
    "<a href=\"#toc\" class=\"btn btn-primary btn-sm\" role=\"button\" aria-pressed=\"true\" style=\"color:white\" data-toggle=\"popover\">Table of Contents</a>"
   ]
  },
  {
   "cell_type": "code",
   "execution_count": null,
   "metadata": {
    "_kg_hide-input": true,
    "execution": {
     "iopub.execute_input": "2021-10-02T19:00:20.660851Z",
     "iopub.status.busy": "2021-10-02T19:00:20.660602Z",
     "iopub.status.idle": "2021-10-02T19:00:20.692057Z",
     "shell.execute_reply": "2021-10-02T19:00:20.691207Z",
     "shell.execute_reply.started": "2021-10-02T19:00:20.660821Z"
    }
   },
   "outputs": [],
   "source": [
    "df[numerical].describe()"
   ]
  },
  {
   "cell_type": "code",
   "execution_count": null,
   "metadata": {
    "execution": {
     "iopub.execute_input": "2021-10-02T19:00:20.693461Z",
     "iopub.status.busy": "2021-10-02T19:00:20.693206Z",
     "iopub.status.idle": "2021-10-02T19:00:20.853829Z",
     "shell.execute_reply": "2021-10-02T19:00:20.853181Z",
     "shell.execute_reply.started": "2021-10-02T19:00:20.693432Z"
    }
   },
   "outputs": [],
   "source": [
    "df[numerical].iplot(kind='hist');"
   ]
  },
  {
   "cell_type": "code",
   "execution_count": null,
   "metadata": {
    "execution": {
     "iopub.execute_input": "2021-10-02T19:00:20.855497Z",
     "iopub.status.busy": "2021-10-02T19:00:20.854788Z",
     "iopub.status.idle": "2021-10-02T19:00:21.200379Z",
     "shell.execute_reply": "2021-10-02T19:00:21.199542Z",
     "shell.execute_reply.started": "2021-10-02T19:00:20.855464Z"
    }
   },
   "outputs": [],
   "source": [
    "df[numerical].iplot(kind='histogram',subplots=True,bins=50)"
   ]
  },
  {
   "cell_type": "code",
   "execution_count": null,
   "metadata": {
    "execution": {
     "iopub.execute_input": "2021-10-02T19:00:21.202331Z",
     "iopub.status.busy": "2021-10-02T19:00:21.201854Z",
     "iopub.status.idle": "2021-10-02T19:00:21.218652Z",
     "shell.execute_reply": "2021-10-02T19:00:21.217603Z",
     "shell.execute_reply.started": "2021-10-02T19:00:21.202291Z"
    }
   },
   "outputs": [],
   "source": [
    "skew_limit = 0.75 # This is our threshold-limit to evaluate skewness. Overall below abs(1) seems acceptable for the linear models. \n",
    "skew_vals = df[numerical].drop('FastingBS', axis=1).skew()\n",
    "skew_cols= skew_vals[abs(skew_vals)> skew_limit].sort_values(ascending=False)\n",
    "skew_cols"
   ]
  },
  {
   "cell_type": "markdown",
   "metadata": {},
   "source": [
    "- Nothing much for the skewness. Quite a normal like distribution for the numerical features."
   ]
  },
  {
   "cell_type": "code",
   "execution_count": null,
   "metadata": {
    "_kg_hide-input": true,
    "execution": {
     "iopub.execute_input": "2021-10-02T19:00:21.220463Z",
     "iopub.status.busy": "2021-10-02T19:00:21.220075Z",
     "iopub.status.idle": "2021-10-02T19:00:21.672532Z",
     "shell.execute_reply": "2021-10-02T19:00:21.671557Z",
     "shell.execute_reply.started": "2021-10-02T19:00:21.220419Z"
    }
   },
   "outputs": [],
   "source": [
    "numerical1= df.select_dtypes('number').columns\n",
    "\n",
    "\n",
    "matrix = np.triu(df[numerical1].corr())\n",
    "fig, ax = plt.subplots(figsize=(14,10)) \n",
    "sns.heatmap (df[numerical1].corr(), annot=True, fmt= '.2f', vmin=-1, vmax=1, center=0, cmap='coolwarm',mask=matrix, ax=ax);"
   ]
  },
  {
   "cell_type": "markdown",
   "metadata": {},
   "source": [
    "- Based on the  matrix, we can observe weak level correlation between the numerical features and the target variable\n",
    "- Oldpeak (depression related number) has a positive correlation with the heart disease.\n",
    "- Maximum heart rate has negative correlation with the heart disease.\n",
    "- interestingly cholesterol has negative correlation with the heart disease.\n"
   ]
  },
  {
   "cell_type": "markdown",
   "metadata": {},
   "source": [
    "<a id=\"5\"></a>\n",
    "<font color=\"lightseagreen\" size=+1.5><b>Categorical Features</b></font>\n",
    "\n",
    "<a href=\"#toc\" class=\"btn btn-primary btn-sm\" role=\"button\" aria-pressed=\"true\" style=\"color:white\" data-toggle=\"popover\">Table of Contents</a>"
   ]
  },
  {
   "cell_type": "code",
   "execution_count": null,
   "metadata": {
    "_kg_hide-input": true,
    "execution": {
     "iopub.execute_input": "2021-10-02T19:00:21.673952Z",
     "iopub.status.busy": "2021-10-02T19:00:21.673702Z",
     "iopub.status.idle": "2021-10-02T19:00:21.687353Z",
     "shell.execute_reply": "2021-10-02T19:00:21.686492Z",
     "shell.execute_reply.started": "2021-10-02T19:00:21.673923Z"
    }
   },
   "outputs": [],
   "source": [
    "df[categorical].head()"
   ]
  },
  {
   "cell_type": "markdown",
   "metadata": {},
   "source": [
    "### **Gender and Heart Disease**"
   ]
  },
  {
   "cell_type": "code",
   "execution_count": null,
   "metadata": {
    "_kg_hide-input": true,
    "execution": {
     "iopub.execute_input": "2021-10-02T19:00:21.689294Z",
     "iopub.status.busy": "2021-10-02T19:00:21.688952Z",
     "iopub.status.idle": "2021-10-02T19:00:21.701939Z",
     "shell.execute_reply": "2021-10-02T19:00:21.701347Z",
     "shell.execute_reply.started": "2021-10-02T19:00:21.689253Z"
    }
   },
   "outputs": [],
   "source": [
    "print (f'A female person has a probability of {round(df[df[\"Sex\"]==\"F\"][\"HeartDisease\"].mean()*100,2)} % have a HeartDisease')\n",
    "\n",
    "print()\n",
    "\n",
    "print (f'A male person has a probability of {round(df[df[\"Sex\"]==\"M\"][\"HeartDisease\"].mean()*100,2)} % have a HeartDisease')\n",
    "\n",
    "print()\n"
   ]
  },
  {
   "cell_type": "code",
   "execution_count": null,
   "metadata": {
    "_kg_hide-input": true,
    "execution": {
     "iopub.execute_input": "2021-10-02T19:00:21.703676Z",
     "iopub.status.busy": "2021-10-02T19:00:21.70298Z",
     "iopub.status.idle": "2021-10-02T19:00:21.799376Z",
     "shell.execute_reply": "2021-10-02T19:00:21.798474Z",
     "shell.execute_reply.started": "2021-10-02T19:00:21.703641Z"
    }
   },
   "outputs": [],
   "source": [
    "fig = px.histogram(df, x=\"Sex\", color=\"HeartDisease\",width=400, height=400)\n",
    "fig.show()"
   ]
  },
  {
   "cell_type": "markdown",
   "metadata": {},
   "source": [
    "- Bad news guys....\n",
    "- Men are almost 2.44 times more likely have a heart disease than women."
   ]
  },
  {
   "cell_type": "markdown",
   "metadata": {},
   "source": [
    "![](https://media.giphy.com/media/MuAz5ozYsaC7rkRUe2/giphy-downsized-large.gif)"
   ]
  },
  {
   "cell_type": "markdown",
   "metadata": {},
   "source": [
    "gif credit: https://giphy.com"
   ]
  },
  {
   "cell_type": "markdown",
   "metadata": {},
   "source": [
    "### **Chest Pain Type and Heart Disease**"
   ]
  },
  {
   "cell_type": "code",
   "execution_count": null,
   "metadata": {
    "_kg_hide-input": true,
    "execution": {
     "iopub.execute_input": "2021-10-02T19:00:21.801193Z",
     "iopub.status.busy": "2021-10-02T19:00:21.800925Z",
     "iopub.status.idle": "2021-10-02T19:00:21.810471Z",
     "shell.execute_reply": "2021-10-02T19:00:21.809494Z",
     "shell.execute_reply.started": "2021-10-02T19:00:21.801158Z"
    }
   },
   "outputs": [],
   "source": [
    "df.groupby('ChestPainType')['HeartDisease'].mean().sort_values(ascending=False)"
   ]
  },
  {
   "cell_type": "code",
   "execution_count": null,
   "metadata": {
    "execution": {
     "iopub.execute_input": "2021-10-02T19:00:21.812552Z",
     "iopub.status.busy": "2021-10-02T19:00:21.812109Z",
     "iopub.status.idle": "2021-10-02T19:00:21.901168Z",
     "shell.execute_reply": "2021-10-02T19:00:21.900372Z",
     "shell.execute_reply.started": "2021-10-02T19:00:21.812515Z"
    }
   },
   "outputs": [],
   "source": [
    "fig = px.histogram(df, x=\"ChestPainType\", color=\"HeartDisease\",width=400, height=400)\n",
    "fig.show()"
   ]
  },
  {
   "cell_type": "markdown",
   "metadata": {},
   "source": [
    "- We can observe clear differences among the chest pain type.\n",
    "- Person with ASY: Asymptomatic chest pain  has almost 6 times more likely have a heart disease than person with ATA Atypical Angina chest pain.\n"
   ]
  },
  {
   "cell_type": "markdown",
   "metadata": {},
   "source": [
    "### **RestingECG and Heart Disease**"
   ]
  },
  {
   "cell_type": "code",
   "execution_count": null,
   "metadata": {
    "_kg_hide-input": true,
    "execution": {
     "iopub.execute_input": "2021-10-02T19:00:21.902747Z",
     "iopub.status.busy": "2021-10-02T19:00:21.902505Z",
     "iopub.status.idle": "2021-10-02T19:00:21.911788Z",
     "shell.execute_reply": "2021-10-02T19:00:21.910971Z",
     "shell.execute_reply.started": "2021-10-02T19:00:21.902714Z"
    }
   },
   "outputs": [],
   "source": [
    "df.groupby('RestingECG')['HeartDisease'].mean().sort_values(ascending=False)"
   ]
  },
  {
   "cell_type": "code",
   "execution_count": null,
   "metadata": {
    "_kg_hide-input": true,
    "execution": {
     "iopub.execute_input": "2021-10-02T19:00:21.913611Z",
     "iopub.status.busy": "2021-10-02T19:00:21.913334Z",
     "iopub.status.idle": "2021-10-02T19:00:22.005148Z",
     "shell.execute_reply": "2021-10-02T19:00:22.004325Z",
     "shell.execute_reply.started": "2021-10-02T19:00:21.91358Z"
    }
   },
   "outputs": [],
   "source": [
    "fig = px.histogram(df, x=\"RestingECG\", color=\"HeartDisease\",width=400, height=400)\n",
    "fig.show()"
   ]
  },
  {
   "cell_type": "markdown",
   "metadata": {},
   "source": [
    "- RestingECG: resting electrocardiogram results don't differ much.\n",
    "- Person with ST: having ST-T wave abnormality is more likely have a heart disease than the others."
   ]
  },
  {
   "cell_type": "markdown",
   "metadata": {},
   "source": [
    "### **ExerciseAngina and Heart Disease**"
   ]
  },
  {
   "cell_type": "code",
   "execution_count": null,
   "metadata": {
    "_kg_hide-input": true,
    "execution": {
     "iopub.execute_input": "2021-10-02T19:00:22.006535Z",
     "iopub.status.busy": "2021-10-02T19:00:22.00629Z",
     "iopub.status.idle": "2021-10-02T19:00:22.015559Z",
     "shell.execute_reply": "2021-10-02T19:00:22.014766Z",
     "shell.execute_reply.started": "2021-10-02T19:00:22.006506Z"
    }
   },
   "outputs": [],
   "source": [
    "df.groupby('ExerciseAngina')['HeartDisease'].mean().sort_values(ascending=False)"
   ]
  },
  {
   "cell_type": "code",
   "execution_count": null,
   "metadata": {
    "execution": {
     "iopub.execute_input": "2021-10-02T19:00:22.017198Z",
     "iopub.status.busy": "2021-10-02T19:00:22.016975Z",
     "iopub.status.idle": "2021-10-02T19:00:22.106717Z",
     "shell.execute_reply": "2021-10-02T19:00:22.105947Z",
     "shell.execute_reply.started": "2021-10-02T19:00:22.017173Z"
    }
   },
   "outputs": [],
   "source": [
    "fig = px.histogram(df, x=\"ExerciseAngina\", color=\"HeartDisease\",width=400, height=400)\n",
    "fig.show()"
   ]
  },
  {
   "cell_type": "markdown",
   "metadata": {},
   "source": [
    "- ExerciseAngina: exercise-induced angina with 'Yes' almost 2.4 times more likley have a heart disaese than exercise-induced angina with 'No'"
   ]
  },
  {
   "cell_type": "markdown",
   "metadata": {},
   "source": [
    "### **ST_Slope and Heart Disease**"
   ]
  },
  {
   "cell_type": "code",
   "execution_count": null,
   "metadata": {
    "_kg_hide-input": true,
    "execution": {
     "iopub.execute_input": "2021-10-02T19:00:22.108242Z",
     "iopub.status.busy": "2021-10-02T19:00:22.108021Z",
     "iopub.status.idle": "2021-10-02T19:00:22.117972Z",
     "shell.execute_reply": "2021-10-02T19:00:22.117451Z",
     "shell.execute_reply.started": "2021-10-02T19:00:22.108217Z"
    }
   },
   "outputs": [],
   "source": [
    "df.groupby('ST_Slope')['HeartDisease'].mean().sort_values(ascending=False)"
   ]
  },
  {
   "cell_type": "code",
   "execution_count": null,
   "metadata": {
    "_kg_hide-input": true,
    "execution": {
     "iopub.execute_input": "2021-10-02T19:00:22.119505Z",
     "iopub.status.busy": "2021-10-02T19:00:22.119134Z",
     "iopub.status.idle": "2021-10-02T19:00:22.211605Z",
     "shell.execute_reply": "2021-10-02T19:00:22.210585Z",
     "shell.execute_reply.started": "2021-10-02T19:00:22.11946Z"
    }
   },
   "outputs": [],
   "source": [
    "fig = px.histogram(df, x=\"ST_Slope\", color=\"HeartDisease\",width=400, height=400)\n",
    "fig.show()"
   ]
  },
  {
   "cell_type": "markdown",
   "metadata": {},
   "source": [
    "- ST_Slope: the slope of the peak exercise ST segment has differences.\n",
    "-  ST_Slope Up significantly less likely has heart disease than the other two segment."
   ]
  },
  {
   "cell_type": "markdown",
   "metadata": {},
   "source": [
    "### Overall Insights from the Exploratory Data Analysis"
   ]
  },
  {
   "cell_type": "markdown",
   "metadata": {},
   "source": [
    "- Target variable has close to balanced data.\n",
    "- Numerical features have weak correlation with the target variable.\n",
    "- Oldpeak (depression related number) has a positive correlation with the heart disease.\n",
    "- Maximum heart rate has negative correlation with the heart disease.\n",
    "- Interestingly cholesterol has negative correlation with the heart disease.\n",
    "- Based on the gender; Men are almost 2.44 times more likely have a heart disease than women.\n",
    "- We can observe clear differences among the chest pain type.\n",
    "- Person with ASY: Asymptomatic chest pain  has almost 6 times more likely have a heart disease than person with ATA Atypical Angina chest pain.\n",
    "- RestingECG: resting electrocardiogram results don't differ much.\n",
    "- Person with ST: having ST-T wave abnormality is more likely have a heart disease than the others.\n",
    "- ExerciseAngina: exercise-induced angina with 'Yes' almost 2.4 times more likley have a heart disaese than exercise-induced angina with 'No'\n",
    "- ST_Slope: the slope of the peak exercise ST segment has differences.\n",
    "- ST_Slope Up significantly less likely has heart disease than the other two segment.\n",
    "\n",
    "\n"
   ]
  },
  {
   "cell_type": "markdown",
   "metadata": {},
   "source": [
    "<a id=\"6\"></a>\n",
    "<font color=\"lightseagreen\" size=+2.5><b>MODEL SELECTION</b></font>\n",
    "\n",
    "<a href=\"#toc\" class=\"btn btn-primary btn-sm\" role=\"button\" aria-pressed=\"true\" style=\"color:white\" data-toggle=\"popover\">Table of Contents</a>"
   ]
  },
  {
   "cell_type": "markdown",
   "metadata": {},
   "source": [
    "- We'll use dummy classifier model as a base model\n",
    "-  And then we will use Logistic & Linear Discriminant & KNeighbors and Support Vector Machine models with and without scaler.\n",
    "- And then we will use ensemble models, Adaboost, Randomforest, Gradient Boosting and Extra Trees\n",
    "- We will see famous trio: XGBoost,LightGBM & Catboost\n",
    "- Finally we will look in detail to hyperparameter tuning for Catboost\n",
    "- Let's start."
   ]
  },
  {
   "cell_type": "markdown",
   "metadata": {},
   "source": [
    "<a id=\"7\"></a>\n",
    "<font color=\"lightseagreen\" size=+1.5><b>Baseline Model</b></font>\n",
    "\n",
    "<a href=\"#toc\" class=\"btn btn-primary btn-sm\" role=\"button\" aria-pressed=\"true\" style=\"color:white\" data-toggle=\"popover\">Table of Contents</a>"
   ]
  },
  {
   "cell_type": "code",
   "execution_count": null,
   "metadata": {
    "execution": {
     "iopub.execute_input": "2021-10-02T19:00:22.21369Z",
     "iopub.status.busy": "2021-10-02T19:00:22.21335Z",
     "iopub.status.idle": "2021-10-02T19:00:22.249091Z",
     "shell.execute_reply": "2021-10-02T19:00:22.248264Z",
     "shell.execute_reply.started": "2021-10-02T19:00:22.213652Z"
    }
   },
   "outputs": [],
   "source": [
    "accuracy =[]\n",
    "model_names =[]\n",
    "\n",
    "\n",
    "X= df.drop('HeartDisease', axis=1)\n",
    "y= df['HeartDisease']\n",
    "X_train, X_test, y_train, y_test = train_test_split(X, y, test_size=0.3, random_state=42)\n",
    "\n",
    "ohe= OneHotEncoder()\n",
    "ct= make_column_transformer((ohe,categorical),remainder='passthrough')  \n",
    "\n",
    "\n",
    "model = DummyClassifier(strategy='constant', constant=1)\n",
    "pipe = make_pipeline(ct, model)\n",
    "pipe.fit(X_train, y_train)\n",
    "y_pred = pipe.predict(X_test)\n",
    "accuracy.append(round(accuracy_score(y_test, y_pred),4))\n",
    "print (f'model : {model} and  accuracy score is : {round(accuracy_score(y_test, y_pred),4)}')\n",
    "\n",
    "model_names = ['DummyClassifier']\n",
    "dummy_result_df = pd.DataFrame({'Accuracy':accuracy}, index=model_names)\n",
    "dummy_result_df"
   ]
  },
  {
   "cell_type": "markdown",
   "metadata": {},
   "source": [
    "<a id=\"8\"></a>\n",
    "<font color=\"lightseagreen\" size=+1.5><b>Logistic & Linear Discriminant & SVC & KNN</b></font>\n",
    "\n",
    "<a href=\"#toc\" class=\"btn btn-primary btn-sm\" role=\"button\" aria-pressed=\"true\" style=\"color:white\" data-toggle=\"popover\">Table of Contents</a>"
   ]
  },
  {
   "cell_type": "code",
   "execution_count": null,
   "metadata": {
    "execution": {
     "iopub.execute_input": "2021-10-02T19:00:22.25089Z",
     "iopub.status.busy": "2021-10-02T19:00:22.250644Z",
     "iopub.status.idle": "2021-10-02T19:00:22.425568Z",
     "shell.execute_reply": "2021-10-02T19:00:22.424558Z",
     "shell.execute_reply.started": "2021-10-02T19:00:22.25086Z"
    }
   },
   "outputs": [],
   "source": [
    "accuracy =[]\n",
    "model_names =[]\n",
    "\n",
    "\n",
    "X= df.drop('HeartDisease', axis=1)\n",
    "y= df['HeartDisease']\n",
    "X_train, X_test, y_train, y_test = train_test_split(X, y, test_size=0.3, random_state=42)\n",
    "\n",
    "ohe= OneHotEncoder()\n",
    "ct= make_column_transformer((ohe,categorical),remainder='passthrough')  \n",
    "\n",
    "\n",
    "lr = LogisticRegression(solver='liblinear')\n",
    "lda= LinearDiscriminantAnalysis()\n",
    "svm = SVC(gamma='scale')\n",
    "knn = KNeighborsClassifier()\n",
    "\n",
    "models = [lr,lda,svm,knn]\n",
    "\n",
    "for model in models: \n",
    "    pipe = make_pipeline(ct, model)\n",
    "    pipe.fit(X_train, y_train)\n",
    "    y_pred = pipe.predict(X_test)\n",
    "    accuracy.append(round(accuracy_score(y_test, y_pred),4))\n",
    "    print (f'model : {model} and  accuracy score is : {round(accuracy_score(y_test, y_pred),4)}')\n",
    "\n",
    "model_names = ['Logistic','LinearDiscriminant','SVM','KNeighbors']\n",
    "result_df1 = pd.DataFrame({'Accuracy':accuracy}, index=model_names)\n",
    "result_df1"
   ]
  },
  {
   "cell_type": "markdown",
   "metadata": {},
   "source": [
    "<a id=\"9\"></a>\n",
    "<font color=\"lightseagreen\" size=+1.5><b> Logistic & Linear Discriminant & SVC & KNN with Scaler</b></font>\n",
    "\n",
    "<a href=\"#toc\" class=\"btn btn-primary btn-sm\" role=\"button\" aria-pressed=\"true\" style=\"color:white\" data-toggle=\"popover\">Table of Contents</a>"
   ]
  },
  {
   "cell_type": "code",
   "execution_count": null,
   "metadata": {
    "execution": {
     "iopub.execute_input": "2021-10-02T19:00:22.431231Z",
     "iopub.status.busy": "2021-10-02T19:00:22.430959Z",
     "iopub.status.idle": "2021-10-02T19:00:22.617613Z",
     "shell.execute_reply": "2021-10-02T19:00:22.616636Z",
     "shell.execute_reply.started": "2021-10-02T19:00:22.431196Z"
    }
   },
   "outputs": [],
   "source": [
    "accuracy =[]\n",
    "model_names =[]\n",
    "\n",
    "\n",
    "X= df.drop('HeartDisease', axis=1)\n",
    "y= df['HeartDisease']\n",
    "X_train, X_test, y_train, y_test = train_test_split(X, y, test_size=0.3, random_state=42)\n",
    "\n",
    "ohe= OneHotEncoder()\n",
    "s= StandardScaler()\n",
    "ct1= make_column_transformer((ohe,categorical),(s,numerical))  \n",
    "\n",
    "\n",
    "lr = LogisticRegression(solver='liblinear')\n",
    "lda= LinearDiscriminantAnalysis()\n",
    "svm = SVC(gamma='scale')\n",
    "knn = KNeighborsClassifier()\n",
    "\n",
    "models = [lr,lda,svm,knn]\n",
    "\n",
    "for model in models: \n",
    "    pipe = make_pipeline(ct1, model)\n",
    "    pipe.fit(X_train, y_train)\n",
    "    y_pred = pipe.predict(X_test)\n",
    "    accuracy.append(round(accuracy_score(y_test, y_pred),4))\n",
    "    print (f'model : {model} and  accuracy score is : {round(accuracy_score(y_test, y_pred),4)}')\n",
    "\n",
    "model_names = ['Logistic_scl','LinearDiscriminant_scl','SVM_scl','KNeighbors_scl']\n",
    "result_df2 = pd.DataFrame({'Accuracy':accuracy}, index=model_names)\n",
    "result_df2"
   ]
  },
  {
   "cell_type": "markdown",
   "metadata": {},
   "source": [
    "- As expected, with scaler, both KNN and SVM did a better job with the scaler than their previous performances."
   ]
  },
  {
   "cell_type": "markdown",
   "metadata": {},
   "source": [
    "- Let's see how ensemble models do with the problem at hand."
   ]
  },
  {
   "cell_type": "markdown",
   "metadata": {},
   "source": [
    "<a id=\"10\"></a>\n",
    "<font color=\"lightseagreen\" size=+1.5><b>Ensemble Models (AdaBoost & Gradient Boosting & Random Forest & Extra Trees)</b></font>\n",
    "\n",
    "<a href=\"#toc\" class=\"btn btn-primary btn-sm\" role=\"button\" aria-pressed=\"true\" style=\"color:white\" data-toggle=\"popover\">Table of Contents</a>"
   ]
  },
  {
   "cell_type": "code",
   "execution_count": null,
   "metadata": {
    "execution": {
     "iopub.execute_input": "2021-10-02T19:00:22.619521Z",
     "iopub.status.busy": "2021-10-02T19:00:22.619189Z",
     "iopub.status.idle": "2021-10-02T19:00:23.381132Z",
     "shell.execute_reply": "2021-10-02T19:00:23.380409Z",
     "shell.execute_reply.started": "2021-10-02T19:00:22.619476Z"
    }
   },
   "outputs": [],
   "source": [
    "accuracy =[]\n",
    "model_names =[]\n",
    "\n",
    "\n",
    "X= df.drop('HeartDisease', axis=1)\n",
    "y= df['HeartDisease']\n",
    "X_train, X_test, y_train, y_test = train_test_split(X, y, test_size=0.3, random_state=42)\n",
    "\n",
    "ohe= OneHotEncoder()\n",
    "ct= make_column_transformer((ohe,categorical),remainder='passthrough')  \n",
    "\n",
    "ada = AdaBoostClassifier(random_state=0)\n",
    "gb = GradientBoostingClassifier(random_state=0)\n",
    "rf = RandomForestClassifier(random_state=0)\n",
    "et=  ExtraTreesClassifier(random_state=0)\n",
    "\n",
    "\n",
    "\n",
    "models = [ada,gb,rf,et]\n",
    "\n",
    "for model in models: \n",
    "    pipe = make_pipeline(ct, model)\n",
    "    pipe.fit(X_train, y_train)\n",
    "    y_pred = pipe.predict(X_test)\n",
    "    accuracy.append(round(accuracy_score(y_test, y_pred),4))\n",
    "    print (f'model : {model} and  accuracy score is : {round(accuracy_score(y_test, y_pred),4)}')\n",
    "\n",
    "model_names = ['Ada','Gradient','Random','ExtraTree']\n",
    "result_df3 = pd.DataFrame({'Accuracy':accuracy}, index=model_names)\n",
    "result_df3"
   ]
  },
  {
   "cell_type": "markdown",
   "metadata": {},
   "source": [
    "- Accuracy scores are very close to each other.\n",
    "- Both Random Forest and Extra tree got similar accuracy scores.\n",
    "- Both model can be improved by hyperparameter tuning."
   ]
  },
  {
   "cell_type": "markdown",
   "metadata": {},
   "source": [
    "- OK. Let's see the very famous trio:\n",
    "  - XGBoost\n",
    "  - Light GBM\n",
    "  - Catboost"
   ]
  },
  {
   "cell_type": "markdown",
   "metadata": {},
   "source": [
    "<a id=\"11\"></a>\n",
    "<font color=\"lightseagreen\" size=+1.5><b>Famous Trio (XGBoost & LightGBM & Catboost)</b></font>\n",
    "\n",
    "<a href=\"#toc\" class=\"btn btn-primary btn-sm\" role=\"button\" aria-pressed=\"true\" style=\"color:white\" data-toggle=\"popover\">Table of Contents</a>"
   ]
  },
  {
   "cell_type": "markdown",
   "metadata": {},
   "source": [
    "- I'll use Catboost alone by using its capability to handle categorical variables without doing any preprocessing.\n",
    "- Let's first look at the XGBoost and LightGBM"
   ]
  },
  {
   "cell_type": "code",
   "execution_count": null,
   "metadata": {
    "execution": {
     "iopub.execute_input": "2021-10-02T19:00:23.38268Z",
     "iopub.status.busy": "2021-10-02T19:00:23.382469Z",
     "iopub.status.idle": "2021-10-02T19:00:23.597692Z",
     "shell.execute_reply": "2021-10-02T19:00:23.596937Z",
     "shell.execute_reply.started": "2021-10-02T19:00:23.382656Z"
    }
   },
   "outputs": [],
   "source": [
    "accuracy =[]\n",
    "model_names =[]\n",
    "\n",
    "\n",
    "X= df.drop('HeartDisease', axis=1)\n",
    "y= df['HeartDisease']\n",
    "X_train, X_test, y_train, y_test = train_test_split(X, y, test_size=0.3, random_state=42)\n",
    "\n",
    "ohe= OneHotEncoder()\n",
    "ct= make_column_transformer((ohe,categorical),remainder='passthrough')  \n",
    "\n",
    "xgbc = XGBClassifier(random_state=0)\n",
    "lgbmc=LGBMClassifier(random_state=0)\n",
    "\n",
    "\n",
    "models = [xgbc,lgbmc]\n",
    "\n",
    "for model in models: \n",
    "    pipe = make_pipeline(ct, model)\n",
    "    pipe.fit(X_train, y_train)\n",
    "    y_pred = pipe.predict(X_test)\n",
    "    accuracy.append(round(accuracy_score(y_test, y_pred),4))\n",
    "\n",
    "model_names = ['XGBoost','LightGBM']\n",
    "result_df4 = pd.DataFrame({'Accuracy':accuracy}, index=model_names)\n",
    "result_df4"
   ]
  },
  {
   "cell_type": "markdown",
   "metadata": {},
   "source": [
    "- With their deafult values, Catboost did better job than the other two models."
   ]
  },
  {
   "cell_type": "markdown",
   "metadata": {},
   "source": [
    "- Now let's see Catboost"
   ]
  },
  {
   "cell_type": "markdown",
   "metadata": {},
   "source": [
    "![](https://avatars.mds.yandex.net/get-bunker/56833/dba868860690e7fe8b68223bb3b749ed8a36fbce/orig)"
   ]
  },
  {
   "cell_type": "markdown",
   "metadata": {},
   "source": [
    "image credit: https://avatars.mds.yandex.net"
   ]
  },
  {
   "cell_type": "markdown",
   "metadata": {},
   "source": [
    "<a id=\"12\"></a>\n",
    "<font color=\"lightseagreen\" size=+1.5><b> CATBOOST</b></font>\n",
    "\n",
    "<a href=\"#toc\" class=\"btn btn-primary btn-sm\" role=\"button\" aria-pressed=\"true\" style=\"color:white\" data-toggle=\"popover\">Table of Contents</a>"
   ]
  },
  {
   "cell_type": "markdown",
   "metadata": {},
   "source": [
    "**Purpose**: \n",
    "   \n",
    "   Training and applying models for the classification problems. Provides compatibility with the scikit-learn tools.\n",
    "\n",
    "**The default optimized objective depends on various conditions**:\n",
    "\n",
    "**Logloss** — The target has only two different values or the target_border parameter is not None.\n",
    "\n",
    "**MultiClass** — The target has more than two different values and the border_count parameter is None.\n",
    "\n",
    "Reference: https://catboost.ai/en/docs/concepts/python-reference_catboostclassifier\n"
   ]
  },
  {
   "cell_type": "code",
   "execution_count": null,
   "metadata": {
    "execution": {
     "iopub.execute_input": "2021-10-02T19:00:23.603143Z",
     "iopub.status.busy": "2021-10-02T19:00:23.601163Z",
     "iopub.status.idle": "2021-10-02T19:00:27.204901Z",
     "shell.execute_reply": "2021-10-02T19:00:27.204325Z",
     "shell.execute_reply.started": "2021-10-02T19:00:23.603099Z"
    }
   },
   "outputs": [],
   "source": [
    "accuracy =[]\n",
    "model_names =[]\n",
    "\n",
    "\n",
    "X= df.drop('HeartDisease', axis=1)\n",
    "y= df['HeartDisease']\n",
    "categorical_features_indices = np.where(X.dtypes != np.float)[0]\n",
    "\n",
    "X_train, X_test, y_train, y_test = train_test_split(X, y, test_size=0.3, random_state=42)\n",
    "\n",
    "model = CatBoostClassifier(verbose=False,random_state=0)\n",
    "\n",
    "model.fit(X_train, y_train,cat_features=categorical_features_indices,eval_set=(X_test, y_test))\n",
    "y_pred = model.predict(X_test)\n",
    "accuracy.append(round(accuracy_score(y_test, y_pred),4))\n",
    "\n",
    "model_names = ['Catboost_default']\n",
    "result_df5 = pd.DataFrame({'Accuracy':accuracy}, index=model_names)\n",
    "result_df5\n",
    "\n"
   ]
  },
  {
   "cell_type": "markdown",
   "metadata": {},
   "source": [
    "- Let's make some adjustment on the Catboost model to see its' peak performance on the problem."
   ]
  },
  {
   "cell_type": "markdown",
   "metadata": {},
   "source": [
    "<a id=\"13\"></a>\n",
    "<font color=\"lightseagreen\" size=+1.5><b>Catboost HyperParameter Tuning with Optuna</b></font>\n",
    "\n",
    "<a href=\"#toc\" class=\"btn btn-primary btn-sm\" role=\"button\" aria-pressed=\"true\" style=\"color:white\" data-toggle=\"popover\">Table of Contents</a>"
   ]
  },
  {
   "cell_type": "code",
   "execution_count": null,
   "metadata": {
    "execution": {
     "iopub.execute_input": "2021-10-02T19:12:27.43538Z",
     "iopub.status.busy": "2021-10-02T19:12:27.434934Z",
     "iopub.status.idle": "2021-10-02T19:13:16.378317Z",
     "shell.execute_reply": "2021-10-02T19:13:16.377306Z",
     "shell.execute_reply.started": "2021-10-02T19:12:27.435349Z"
    }
   },
   "outputs": [],
   "source": [
    "def objective(trial):\n",
    "    X= df.drop('HeartDisease', axis=1)\n",
    "    y= df['HeartDisease']\n",
    "    categorical_features_indices = np.where(X.dtypes != np.float)[0]\n",
    "    \n",
    "    X_train, X_test, y_train, y_test = train_test_split(X, y, test_size=0.3, random_state=42)\n",
    "\n",
    "    param = {\n",
    "        \"objective\": trial.suggest_categorical(\"objective\", [\"Logloss\", \"CrossEntropy\"]),\n",
    "        \"colsample_bylevel\": trial.suggest_float(\"colsample_bylevel\", 0.01, 0.1),\n",
    "        \"depth\": trial.suggest_int(\"depth\", 1, 12),\n",
    "        \"boosting_type\": trial.suggest_categorical(\"boosting_type\", [\"Ordered\", \"Plain\"]),\n",
    "        \"bootstrap_type\": trial.suggest_categorical(\n",
    "            \"bootstrap_type\", [\"Bayesian\", \"Bernoulli\", \"MVS\"]\n",
    "        ),\n",
    "        \"used_ram_limit\": \"3gb\",\n",
    "    }\n",
    "\n",
    "    if param[\"bootstrap_type\"] == \"Bayesian\":\n",
    "        param[\"bagging_temperature\"] = trial.suggest_float(\"bagging_temperature\", 0, 10)\n",
    "    elif param[\"bootstrap_type\"] == \"Bernoulli\":\n",
    "        param[\"subsample\"] = trial.suggest_float(\"subsample\", 0.1, 1)\n",
    "\n",
    "    cat_cls = CatBoostClassifier(**param)\n",
    "\n",
    "    cat_cls.fit(X_train, y_train, eval_set=[(X_test, y_test)], cat_features=categorical_features_indices,verbose=0, early_stopping_rounds=100)\n",
    "\n",
    "    preds = cat_cls.predict(X_test)\n",
    "    pred_labels = np.rint(preds)\n",
    "    accuracy = accuracy_score(y_test, pred_labels)\n",
    "    return accuracy\n",
    "\n",
    "\n",
    "if __name__ == \"__main__\":\n",
    "    study = optuna.create_study(direction=\"maximize\")\n",
    "    study.optimize(objective, n_trials=50, timeout=600)\n",
    "\n",
    "    print(\"Number of finished trials: {}\".format(len(study.trials)))\n",
    "\n",
    "    print(\"Best trial:\")\n",
    "    trial = study.best_trial\n",
    "\n",
    "    print(\"  Value: {}\".format(trial.value))\n",
    "\n",
    "    print(\"  Params: \")\n",
    "    for key, value in trial.params.items():\n",
    "        print(\"    {}: {}\".format(key, value))"
   ]
  },
  {
   "cell_type": "markdown",
   "metadata": {},
   "source": [
    "**Parameters**:\n",
    "\n",
    "- **Objective**:  Supported metrics for overfitting detection and best model selection \n",
    "\n",
    "- **colsample_bylevel**: this parameter speeds up the training and usually does not affect the quality.\n",
    "\n",
    "- **depht** : Depth of the tree.\n",
    "\n",
    "\n",
    "- **boosting_type** : By default, the boosting type is set to for small datasets. This prevents overfitting but it is expensive in terms of computation. Try to set the value of this parameter to  to speed up the training.\n",
    "\n",
    "- **bootstrap_type** : By default, the method for sampling the weights of objects is set to . The training is performed faster if the method is set and the value for the sample rate for bagging is smaller than 1.\n",
    "\n",
    "\n",
    "Reference: https://catboost.ai/\n",
    "\n",
    "\n"
   ]
  },
  {
   "cell_type": "markdown",
   "metadata": {},
   "source": [
    "- Ok let's use our best model with new parameters."
   ]
  },
  {
   "cell_type": "code",
   "execution_count": null,
   "metadata": {
    "execution": {
     "iopub.execute_input": "2021-10-02T19:05:53.539105Z",
     "iopub.status.busy": "2021-10-02T19:05:53.538048Z",
     "iopub.status.idle": "2021-10-02T19:05:54.26392Z",
     "shell.execute_reply": "2021-10-02T19:05:54.262936Z",
     "shell.execute_reply.started": "2021-10-02T19:05:53.539049Z"
    }
   },
   "outputs": [],
   "source": [
    "accuracy =[]\n",
    "model_names =[]\n",
    "\n",
    "\n",
    "X= df.drop('HeartDisease', axis=1)\n",
    "y= df['HeartDisease']\n",
    "categorical_features_indices = np.where(X.dtypes != np.float)[0]\n",
    "\n",
    "X_train, X_test, y_train, y_test = train_test_split(X, y, test_size=0.3, random_state=42)\n",
    "\n",
    "model = CatBoostClassifier(verbose=False,random_state=0,\n",
    "                          objective= 'CrossEntropy',\n",
    "    colsample_bylevel= 0.04292240490294766,\n",
    "    depth= 10,\n",
    "    boosting_type= 'Plain',\n",
    "    bootstrap_type= 'MVS')\n",
    "\n",
    "model.fit(X_train, y_train,cat_features=categorical_features_indices,eval_set=(X_test, y_test))\n",
    "y_pred = model.predict(X_test)\n",
    "accuracy.append(round(accuracy_score(y_test, y_pred),4))\n",
    "print(classification_report(y_test, y_pred))\n",
    "\n",
    "model_names = ['Catboost_tuned']\n",
    "result_df6 = pd.DataFrame({'Accuracy':accuracy}, index=model_names)\n",
    "result_df6\n",
    "\n"
   ]
  },
  {
   "cell_type": "markdown",
   "metadata": {},
   "source": [
    "- We have lift from 0.8804 to .9094"
   ]
  },
  {
   "cell_type": "markdown",
   "metadata": {},
   "source": [
    "<a id=\"14\"></a>\n",
    "<font color=\"lightseagreen\" size=+1.5><b>Feature Importance</b></font>\n",
    "\n",
    "<a href=\"#toc\" class=\"btn btn-primary btn-sm\" role=\"button\" aria-pressed=\"true\" style=\"color:white\" data-toggle=\"popover\">Table of Contents</a>"
   ]
  },
  {
   "cell_type": "code",
   "execution_count": null,
   "metadata": {
    "_kg_hide-input": true,
    "execution": {
     "iopub.execute_input": "2021-10-02T19:00:45.444379Z",
     "iopub.status.busy": "2021-10-02T19:00:45.443974Z",
     "iopub.status.idle": "2021-10-02T19:00:45.526771Z",
     "shell.execute_reply": "2021-10-02T19:00:45.525892Z",
     "shell.execute_reply.started": "2021-10-02T19:00:45.444348Z"
    }
   },
   "outputs": [],
   "source": [
    "feature_importance = np.array(model.get_feature_importance())\n",
    "features = np.array(X_train.columns)\n",
    "fi={'features':features,'feature_importance':feature_importance}\n",
    "df_fi = pd.DataFrame(fi)\n",
    "df_fi.sort_values(by=['feature_importance'], ascending=True,inplace=True)\n",
    "fig = px.bar(df_fi, x='feature_importance', y='features',title=\"CatBoost Feature Importance\",height=500)\n",
    "fig.show()"
   ]
  },
  {
   "cell_type": "markdown",
   "metadata": {},
   "source": [
    "<a id=\"15\"></a>\n",
    "<font color=\"lightseagreen\" size=+1.5><b>Model Comparison</b></font>\n",
    "\n",
    "<a href=\"#toc\" class=\"btn btn-primary btn-sm\" role=\"button\" aria-pressed=\"true\" style=\"color:white\" data-toggle=\"popover\">Table of Contents</a>"
   ]
  },
  {
   "cell_type": "code",
   "execution_count": null,
   "metadata": {
    "_kg_hide-input": true,
    "execution": {
     "iopub.execute_input": "2021-10-02T19:00:45.528415Z",
     "iopub.status.busy": "2021-10-02T19:00:45.528154Z",
     "iopub.status.idle": "2021-10-02T19:00:45.534422Z",
     "shell.execute_reply": "2021-10-02T19:00:45.533622Z",
     "shell.execute_reply.started": "2021-10-02T19:00:45.528368Z"
    }
   },
   "outputs": [],
   "source": [
    "result_final = pd.concat([dummy_result_df,result_df1,result_df2,result_df3,result_df4,result_df5,result_df6],axis=0)"
   ]
  },
  {
   "cell_type": "code",
   "execution_count": null,
   "metadata": {
    "_kg_hide-input": true,
    "execution": {
     "iopub.execute_input": "2021-10-02T19:00:45.53696Z",
     "iopub.status.busy": "2021-10-02T19:00:45.53617Z",
     "iopub.status.idle": "2021-10-02T19:00:45.616323Z",
     "shell.execute_reply": "2021-10-02T19:00:45.61569Z",
     "shell.execute_reply.started": "2021-10-02T19:00:45.536926Z"
    }
   },
   "outputs": [],
   "source": [
    "result_final.sort_values(by=['Accuracy'], ascending=True,inplace=True)\n",
    "fig = px.bar(result_final, x='Accuracy', y=result_final.index,title='Model Comparison',height=600,labels={'index':'MODELS'})\n",
    "fig.show()"
   ]
  },
  {
   "cell_type": "markdown",
   "metadata": {},
   "source": [
    "<a id=\"16\"></a>\n",
    "<font color=\"darkblue\" size=+1.5><b>Conclusion</b></font>\n",
    "\n",
    "<a href=\"#toc\" class=\"btn btn-primary btn-sm\" role=\"button\" aria-pressed=\"true\" style=\"color:white\" data-toggle=\"popover\">Table of Contents</a>\n"
   ]
  },
  {
   "cell_type": "markdown",
   "metadata": {
    "execution": {
     "iopub.execute_input": "2021-10-02T18:05:22.407997Z",
     "iopub.status.busy": "2021-10-02T18:05:22.40737Z",
     "iopub.status.idle": "2021-10-02T18:05:22.416557Z",
     "shell.execute_reply": "2021-10-02T18:05:22.415522Z",
     "shell.execute_reply.started": "2021-10-02T18:05:22.407953Z"
    }
   },
   "source": [
    "- We have developed model to classifiy heart disease cases.\n",
    "\n",
    "- First, we  made the detailed exploratory analysis.\n",
    "- We have decided which metric to use.\n",
    "- We analyzed both target and features in detail.\n",
    "- We transform categorical variables into numeric so we can use them in the model.\n",
    "- We use pipeline to avoid data leakage.\n",
    "- We looked at the results of the each model and selected the best one for the problem on hand.\n",
    "- We looked in detail Catboost\n",
    "- We made hyperparameter tuning of the Catboost with Optuna to see the improvement\n",
    "- We looked at the feature importance.\n",
    "\n",
    "\n",
    "\n",
    "- After this point it is up to you to develop and improve the models.  **Enjoy** 🤘"
   ]
  },
  {
   "cell_type": "markdown",
   "metadata": {},
   "source": [
    "#### By the way, when you like the topic, you can show it by supporting 👍\n",
    "\n",
    "####  **Feel free to leave a comment**. \n",
    "\n",
    "#### All the best 🤘"
   ]
  },
  {
   "cell_type": "markdown",
   "metadata": {},
   "source": [
    "![](https://media.giphy.com/media/3o7TKUM3IgJBX2as9O/giphy.gif)"
   ]
  },
  {
   "cell_type": "markdown",
   "metadata": {},
   "source": [
    "gif credit: https://media.giphy.com/"
   ]
  },
  {
   "cell_type": "markdown",
   "metadata": {},
   "source": [
    "<a id=\"17\"></a>\n",
    "<font color=\"darkblue\" size=+1.5><b>References & Further Reading</b></font>\n",
    "\n",
    "<a href=\"#toc\" class=\"btn btn-primary btn-sm\" role=\"button\" aria-pressed=\"true\" style=\"color:white\" data-toggle=\"popover\">Table of Contents</a>\n",
    "\n",
    "\n",
    "[Machine Learning - Beginner &Intermediate-Friendly BOOKS](https://www.kaggle.com/general/255972)"
   ]
  }
 ],
 "metadata": {
  "kernelspec": {
   "display_name": "Python 3 (ipykernel)",
   "language": "python",
   "name": "python3"
  },
  "language_info": {
   "codemirror_mode": {
    "name": "ipython",
    "version": 3
   },
   "file_extension": ".py",
   "mimetype": "text/x-python",
   "name": "python",
   "nbconvert_exporter": "python",
   "pygments_lexer": "ipython3",
   "version": "3.9.12"
  }
 },
 "nbformat": 4,
 "nbformat_minor": 4
}
